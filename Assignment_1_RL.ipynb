{
  "cells": [
    {
      "cell_type": "markdown",
      "metadata": {
        "id": "TnkebF0eF-ms"
      },
      "source": [
        "# Tutorial and Sample Code for Balancing a Pole on a Cart"
      ]
    },
    {
      "cell_type": "code",
      "execution_count": 1,
      "metadata": {
        "colab": {
          "base_uri": "https://localhost:8080/"
        },
        "id": "AyevNz4cF-mt",
        "outputId": "7859a975-ab81-4735-9df1-9e6236f987d0"
      },
      "outputs": [
        {
          "output_type": "stream",
          "name": "stdout",
          "text": [
            "Python 3.8.10\n"
          ]
        }
      ],
      "source": [
        "!python -V"
      ]
    },
    {
      "cell_type": "markdown",
      "metadata": {
        "id": "TLxKQ-scF-mt"
      },
      "source": [
        "## Installing dependencies:"
      ]
    },
    {
      "cell_type": "code",
      "execution_count": 2,
      "metadata": {
        "id": "yA68sLHVF-mu",
        "colab": {
          "base_uri": "https://localhost:8080/"
        },
        "outputId": "e4548518-0697-4e05-ca74-18cba7f92a53"
      },
      "outputs": [
        {
          "output_type": "stream",
          "name": "stdout",
          "text": [
            "Looking in indexes: https://pypi.org/simple, https://us-python.pkg.dev/colab-wheels/public/simple/\n",
            "Requirement already satisfied: gym[classic_control] in /usr/local/lib/python3.8/dist-packages (0.25.2)\n",
            "Requirement already satisfied: numpy>=1.18.0 in /usr/local/lib/python3.8/dist-packages (from gym[classic_control]) (1.22.4)\n",
            "Requirement already satisfied: cloudpickle>=1.2.0 in /usr/local/lib/python3.8/dist-packages (from gym[classic_control]) (2.2.1)\n",
            "Requirement already satisfied: importlib-metadata>=4.8.0 in /usr/local/lib/python3.8/dist-packages (from gym[classic_control]) (6.0.0)\n",
            "Requirement already satisfied: gym-notices>=0.0.4 in /usr/local/lib/python3.8/dist-packages (from gym[classic_control]) (0.0.8)\n",
            "Requirement already satisfied: pygame==2.1.0 in /usr/local/lib/python3.8/dist-packages (from gym[classic_control]) (2.1.0)\n",
            "Requirement already satisfied: zipp>=0.5 in /usr/local/lib/python3.8/dist-packages (from importlib-metadata>=4.8.0->gym[classic_control]) (3.15.0)\n",
            "Looking in indexes: https://pypi.org/simple, https://us-python.pkg.dev/colab-wheels/public/simple/\n",
            "Requirement already satisfied: setuptools in /usr/local/lib/python3.8/dist-packages (67.6.0)\n",
            "Looking in indexes: https://pypi.org/simple, https://us-python.pkg.dev/colab-wheels/public/simple/\n",
            "Requirement already satisfied: mpi4py in /usr/local/lib/python3.8/dist-packages (3.1.4)\n",
            "Looking in indexes: https://pypi.org/simple, https://us-python.pkg.dev/colab-wheels/public/simple/\n",
            "Requirement already satisfied: pyyaml in /usr/local/lib/python3.8/dist-packages (6.0)\n",
            "Requirement already satisfied: h5py in /usr/local/lib/python3.8/dist-packages (3.1.0)\n",
            "Requirement already satisfied: numpy>=1.17.5 in /usr/local/lib/python3.8/dist-packages (from h5py) (1.22.4)\n"
          ]
        }
      ],
      "source": [
        "!apt-get install -y xvfb python-opengl > /dev/null 2>&1\n",
        "!pip install gym pyvirtualdisplay > /dev/null 2>&1\n",
        "!pip install gym pyvirtualdisplay > /dev/null 2>&1\n",
        "!apt-get install -y xvfb python-opengl ffmpeg > /dev/null 2>&1\n",
        "!pip install gym\\[classic_control\\]\n",
        "!apt-get update > /dev/null 2>&1\n",
        "!apt-get install cmake > /dev/null 2>&1\n",
        "!pip install --upgrade setuptools 2>&1\n",
        "!pip install ez_setup > /dev/null 2>&1\n",
        "!pip install mpi4py\n",
        "!pip install pyyaml h5py"
      ]
    },
    {
      "cell_type": "markdown",
      "metadata": {
        "id": "1YlOB-WiF-mu"
      },
      "source": [
        "## Importing dependencies and define helper functions"
      ]
    },
    {
      "cell_type": "code",
      "execution_count": 3,
      "metadata": {
        "id": "n5_2I95pF-mu"
      },
      "outputs": [],
      "source": [
        "import gym\n",
        "from gym import logger as gymlogger\n",
        "from gym.wrappers import RecordVideo\n",
        "gymlogger.set_level(40) #error only\n",
        "from gym.utils.step_api_compatibility import step_api_compatibility\n",
        "import tensorflow as tf\n",
        "import numpy as np\n",
        "from keras.models import Sequential\n",
        "from keras.layers import Dense\n",
        "from keras.optimizers import Adam\n",
        "from keras import backend\n",
        "import random\n",
        "import matplotlib\n",
        "import matplotlib.pyplot as plt\n",
        "%matplotlib inline\n",
        "import math\n",
        "import glob\n",
        "import io\n",
        "import base64\n",
        "import pickle\n",
        "from collections import deque\n",
        "from IPython.display import HTML\n",
        "from IPython import display as ipythondisplay\n",
        "from tqdm import tqdm\n",
        "from mpi4py import MPI\n",
        "\n",
        "def show_video():\n",
        "  mp4list = glob.glob('video/*.mp4')\n",
        "  if len(mp4list) > 0:\n",
        "    mp4 = mp4list[0]\n",
        "    video = io.open(mp4, 'r+b').read()\n",
        "    encoded = base64.b64encode(video)\n",
        "    ipythondisplay.display(HTML(data='''<video alt=\"test\" autoplay \n",
        "                loop controls style=\"height: 400px;\">\n",
        "                <source src=\"data:video/mp4;base64,{0}\" type=\"video/mp4\" />\n",
        "             </video>'''.format(encoded.decode('ascii'))))\n",
        "  else: \n",
        "    print(\"Could not find video\")"
      ]
    },
    {
      "cell_type": "markdown",
      "metadata": {
        "id": "COg4be5zF-mu"
      },
      "source": [
        "## Tutorial: Loading CartPole environment"
      ]
    },
    {
      "cell_type": "code",
      "execution_count": 4,
      "metadata": {
        "id": "_kB785vpF-mu"
      },
      "outputs": [],
      "source": [
        "env = gym.make(\"CartPole-v1\")"
      ]
    },
    {
      "cell_type": "markdown",
      "metadata": {
        "id": "g9cEepvYF-mu"
      },
      "source": [
        "We can check the action and observation space of this environment. Discrete(2) means that there are two valid discrete actions: 0 & 1.\n",
        "\n"
      ]
    },
    {
      "cell_type": "code",
      "execution_count": 5,
      "metadata": {
        "id": "A3rVtDi1F-mv",
        "colab": {
          "base_uri": "https://localhost:8080/"
        },
        "outputId": "257148f0-54ef-4e58-aede-88e4f5cd4fb8"
      },
      "outputs": [
        {
          "output_type": "stream",
          "name": "stdout",
          "text": [
            "Discrete(2)\n"
          ]
        }
      ],
      "source": [
        "print(env.action_space)"
      ]
    },
    {
      "cell_type": "markdown",
      "metadata": {
        "id": "HhkBnmtuF-mv"
      },
      "source": [
        "The observation space is given below. The first two arrays define the min and max values of the 4 observed values, corresponding to cart position, velocity and pole angle, angular velocity."
      ]
    },
    {
      "cell_type": "code",
      "execution_count": 6,
      "metadata": {
        "id": "frLuO93oF-mv",
        "colab": {
          "base_uri": "https://localhost:8080/"
        },
        "outputId": "a31eb888-ff09-4369-c471-3b79c3bdbc20"
      },
      "outputs": [
        {
          "output_type": "stream",
          "name": "stdout",
          "text": [
            "Box([-4.8000002e+00 -3.4028235e+38 -4.1887903e-01 -3.4028235e+38], [4.8000002e+00 3.4028235e+38 4.1887903e-01 3.4028235e+38], (4,), float32)\n"
          ]
        }
      ],
      "source": [
        "print(env.observation_space)"
      ]
    },
    {
      "cell_type": "markdown",
      "metadata": {
        "id": "3-EVCFXyF-mv"
      },
      "source": [
        "We call each round of the pole-balancing game an \"episode\". At the start of each episode, make sure the environment is reset, which chooses a random initial state, e.g., pole slightly tilted to the right. This initialization can be achieved by the code below, which returns the observation of the initial state."
      ]
    },
    {
      "cell_type": "code",
      "execution_count": 7,
      "metadata": {
        "id": "qmjZHHAYF-mv",
        "colab": {
          "base_uri": "https://localhost:8080/"
        },
        "outputId": "7e48da4a-ca77-4e94-8d1f-3b170deedfb2"
      },
      "outputs": [
        {
          "output_type": "stream",
          "name": "stdout",
          "text": [
            "Initial observations: [-0.00308711  0.00858368 -0.01180391  0.02440116]\n"
          ]
        }
      ],
      "source": [
        "observation = env.reset()\n",
        "print(\"Initial observations:\", observation)"
      ]
    },
    {
      "cell_type": "markdown",
      "metadata": {
        "id": "g0Ld4o6GF-mv"
      },
      "source": [
        "For the CartPole environment, there are two possible actions: 0 for pushing to the left and 1 for pushing to the right. For example, we can push the cart to the left using code below, which returns the new observation, the current reward, an indicator of whether the game ends, and some additional information (not used in this project). For CartPole, the game ends when the pole is significantly tilted or you manage to balance the pole for 500 steps. You get exactly 1 reward for each step before the game ends (i.e., max cumulative reward is 500)."
      ]
    },
    {
      "cell_type": "code",
      "execution_count": 8,
      "metadata": {
        "id": "3ODJkbAMF-mv",
        "colab": {
          "base_uri": "https://localhost:8080/"
        },
        "outputId": "5066ebb4-28e5-4761-ce2e-2b1b2040a10e"
      },
      "outputs": [
        {
          "output_type": "stream",
          "name": "stdout",
          "text": [
            "New observations after choosing action 0: [-0.00291544 -0.18636702 -0.01131589  0.31333658]\n",
            "Reward for this step: 1.0\n",
            "Is this round done? False\n"
          ]
        }
      ],
      "source": [
        "observation, reward, done, info = env.step(0)\n",
        "print(\"New observations after choosing action 0:\", observation)\n",
        "print(\"Reward for this step:\", reward)\n",
        "print(\"Is this round done?\", done)"
      ]
    },
    {
      "cell_type": "markdown",
      "metadata": {
        "id": "A6fTC1O5F-mv"
      },
      "source": [
        "Now we can play a full round of the game using a naive strategy (always choosing action 0), and show the cumulative reward in the round. Note that reward returned by env.step(*) corresponds to the reward for current step. So we have to accumulate the reward for each step. Clearly, the naive strategy performs poorly by surviving only a dozen of steps."
      ]
    },
    {
      "cell_type": "code",
      "execution_count": 9,
      "metadata": {
        "id": "lxQV5KvHF-mv",
        "colab": {
          "base_uri": "https://localhost:8080/"
        },
        "outputId": "abbe2e02-4746-4af7-e7aa-a5dbb14734ba"
      },
      "outputs": [
        {
          "output_type": "stream",
          "name": "stdout",
          "text": [
            "Cumulative reward for this round: 8.0\n"
          ]
        }
      ],
      "source": [
        "observation = env.reset()\n",
        "cumulative_reward = 0\n",
        "done = False\n",
        "while not done:\n",
        "    observation, reward, done, info = env.step(0)\n",
        "    cumulative_reward += reward\n",
        "print(\"Cumulative reward for this round:\", cumulative_reward)"
      ]
    },
    {
      "cell_type": "markdown",
      "metadata": {
        "id": "se3w8u54F-mw"
      },
      "source": [
        "## Q-Learning"
      ]
    },
    {
      "cell_type": "markdown",
      "metadata": {
        "id": "fV9ugkgePA6T"
      },
      "source": [
        "***Referenced from [1] https://qiita.com/sugulu_Ogawa_ISID/items/bc7c70e6658f204f85f9 \\\\\n",
        "(caution: language..Japanese)"
      ]
    },
    {
      "cell_type": "markdown",
      "metadata": {
        "id": "2prSVx50F-mw"
      },
      "source": [
        "Q-learning policy is the following:\n",
        "$$\n",
        "Q^{new} (s, a) \\leftarrow \n",
        "(1-\\alpha) \\cdot \n",
        "\\underbrace{Q(s, a)}_{old \\, value} + \n",
        "\\underbrace{\\alpha}_{learning \\, rate} \\cdot \n",
        "\\overbrace{\n",
        "\\left(\n",
        "\\underbrace{r}_{reward} +\n",
        "\\underbrace{\\gamma}_{discount \\, factor} \\cdot\n",
        "\\underbrace{\\max_{a^{\\prime}}Q(s^{\\prime}, a^{\\prime})}_{estimate \\, of \\, optimal \\, future \\, value}\n",
        "\\right)\n",
        "}^{learned \\, value}\n",
        "$$"
      ]
    },
    {
      "cell_type": "markdown",
      "metadata": {
        "id": "CGRhIqF_F-mw"
      },
      "source": [
        "This methods create a q-table which records state and action in every espisode, and update them.\n",
        "\n",
        "The update is followed by the learning rate - $\\alpha$, the reward - r and the discount factor - $\\gamma$.\n",
        "Once the RL agent estimates an optimal future value, it calculates the difference from the old value and multiply $\\gamma$ to 'discount' it. After that, the reward is added to the calculated value to obtain the learned value and the agent multiplies it by $\\alpha$. Finally, the agent adds the calculated value to the old value and updates the q-table."
      ]
    },
    {
      "cell_type": "markdown",
      "metadata": {
        "id": "nDNTJAvlF-mv"
      },
      "source": [
        "### Task 1: Development of an RL agent"
      ]
    },
    {
      "cell_type": "markdown",
      "metadata": {
        "id": "kZDXIJlJF-mw"
      },
      "source": [
        "Implementation of Q-Learning:"
      ]
    },
    {
      "cell_type": "code",
      "execution_count": 10,
      "metadata": {
        "id": "JzArBDs8F-mw"
      },
      "outputs": [],
      "source": [
        "# ***Cited/Referenced from [1]***\n",
        "class Q_Learning:\n",
        "    def __init__(self, gamma, alpha, env, max_number_of_steps, num_consecutive_iter, \n",
        "                 num_episodes, goal_average_reward, num_dizitised):\n",
        "        self.gamma = gamma\n",
        "        self.alpha = alpha\n",
        "        self.env = env\n",
        "        self.max_number_of_steps = max_number_of_steps # the number of steps\n",
        "        self.num_consecutive_iter = num_consecutive_iter # the number of iterations\n",
        "        self.num_episodes = num_episodes # the number of episodes to learn\n",
        "        self.goal_average_reward = goal_average_reward # the reward value considered to be the goal\n",
        "        self.num_dizitised = num_dizitised\n",
        "        \n",
        "        self.q_table = np.random.uniform(low=-1,\n",
        "                           high=1,\n",
        "                           size=(self.num_dizitised**4, self.env.action_space.n))\n",
        "        \n",
        "        # Cumulative Average reward per an Episode\n",
        "        self.episode_results = np.zeros(self.num_episodes)\n",
        "    \n",
        "    # Utility Functions\n",
        "    def bins(self, clip_min, clip_max, num):\n",
        "        return np.linspace(clip_min, clip_max, num + 1)[1:-1]\n",
        "\n",
        "    # observation -> transform to descrete digitised state\n",
        "    def digitise_state(self, observation):\n",
        "        cart_pos, cart_v, pole_angle, pole_v = observation\n",
        "        digitised = [\n",
        "            np.digitize(cart_pos, bins=self.bins(-2.4, 2.4, self.num_dizitised)),\n",
        "            np.digitize(cart_v, bins=self.bins(-3.0, 3.0, self.num_dizitised)),\n",
        "            np.digitize(pole_angle, bins=self.bins(-0.5, 0.5, self.num_dizitised)),\n",
        "            np.digitize(pole_v, bins=self.bins(-2.0, 2.0, self.num_dizitised))\n",
        "        ]\n",
        "        return sum([x * self.num_dizitised**i for i, x in enumerate(digitised)])\n",
        "\n",
        "    # Function to obtain an action a(t)\n",
        "    def get_action(self, next_state, episode):\n",
        "        #epsilon-greedy\n",
        "        epsilon = 0.5 * (1 / (episode + 1))\n",
        "        if epsilon <= np.random.uniform(0, 1):\n",
        "            next_action = np.argmax(self.q_table[next_state])\n",
        "        else:\n",
        "            next_action = np.random.choice([0, 1])\n",
        "        return next_action\n",
        "\n",
        "    # Function that updates Q-table\n",
        "    def update_Qtable(self, q_table, state, action, reward, next_state):\n",
        "        Q_max_next = max(self.q_table[next_state][0], self.q_table[next_state][1])\n",
        "        self.q_table[state, action] = (1 - self.alpha) * self.q_table[state, action] + \\\n",
        "            self.alpha * (reward + self.gamma * Q_max_next)\n",
        "\n",
        "        return self.q_table\n",
        "    \n",
        "    def main(self, num_episodes, out_single, video_take):\n",
        "        if self.num_episodes != num_episodes:\n",
        "            self.num_episodes = num_episodes\n",
        "            self.episode_results = np.zeros(self.num_episodes)\n",
        "        if video_take:\n",
        "            self.env = RecordVideo(gym.make(\"CartPole-v1\"), \"./video\")\n",
        "        for episode in range(self.num_episodes): # Episodes -- 500\n",
        "            # Initialisation\n",
        "            observation = self.env.reset()\n",
        "            state = self.digitise_state(observation)\n",
        "            action = np.argmax(self.q_table[state])\n",
        "            episode_reward = 0\n",
        "            \n",
        "            total_reward_vec = np.zeros(self.num_consecutive_iter)\n",
        "            final_x = np.zeros((self.num_episodes, 1))\n",
        "            islearned = 0\n",
        "        \n",
        "            for t in range(self.max_number_of_steps): # Steps -- 500\n",
        "                if video_take:\n",
        "                    self.env.render()\n",
        "                observation, reward, done, info = self.env.step(action)\n",
        "\n",
        "                if done:\n",
        "                    if t < 195:\n",
        "                        reward = -1\n",
        "                    else:\n",
        "                        reward = 1\n",
        "                else:\n",
        "                    reward = 0\n",
        "\n",
        "                episode_reward += 1\n",
        "\n",
        "                # calculate next state\n",
        "                next_state = self.digitise_state(observation)\n",
        "                # update Q-table\n",
        "                self.q_table = self.update_Qtable(self.q_table, state, action, reward, next_state)\n",
        "\n",
        "                # calculate next action\n",
        "                action = self.get_action(next_state, episode)\n",
        "                \n",
        "                # for returning a single action\n",
        "                if out_single:\n",
        "                    return observation, action\n",
        "\n",
        "                state = next_state\n",
        "\n",
        "                # end of one step\n",
        "                if done:\n",
        "                    total_reward_vec = np.hstack((total_reward_vec[1:], episode_reward))\n",
        "\n",
        "                    # If the learning is finished, store the final x coordinate\n",
        "                    if islearned == 1:\n",
        "                        final_x[episode, 0] = observation\n",
        "                    break\n",
        "\n",
        "            # close the video environment\n",
        "            if video_take:\n",
        "                self.env.close()\n",
        "                show_video()\n",
        "                return\n",
        "            self.episode_results[episode] = episode_reward\n",
        "            if(total_reward_vec.mean() >= self.goal_average_reward):\n",
        "                islearned = 1"
      ]
    },
    {
      "cell_type": "markdown",
      "metadata": {
        "id": "ie6hy6Wv7smg"
      },
      "source": [
        "One step:"
      ]
    },
    {
      "cell_type": "code",
      "execution_count": 11,
      "metadata": {
        "id": "KL2RFNyhF-mw",
        "colab": {
          "base_uri": "https://localhost:8080/"
        },
        "outputId": "58ca4326-315f-41e5-e70d-79c64cabc72b"
      },
      "outputs": [
        {
          "output_type": "stream",
          "name": "stdout",
          "text": [
            "Observation: [ 0.04635842  0.16482827 -0.03428421 -0.32167363]\n",
            "Chosen action: 0\n"
          ]
        }
      ],
      "source": [
        "q_learning_agent = Q_Learning(gamma=0.99, alpha=0.6, env=gym.make('CartPole-v1'), max_number_of_steps=500, num_consecutive_iter=100, \n",
        "                 num_episodes=100, goal_average_reward=195, num_dizitised=6)\n",
        "observation, action = q_learning_agent.main(num_episodes=100, out_single=True, video_take=False)\n",
        "print(\"Observation:\", observation)\n",
        "print(\"Chosen action:\", action)"
      ]
    },
    {
      "cell_type": "markdown",
      "metadata": {
        "id": "j-saRPWJoeTB"
      },
      "source": [
        "#### Optimising learning rate"
      ]
    },
    {
      "cell_type": "code",
      "execution_count": 12,
      "metadata": {
        "id": "mnVQl0IJobZn",
        "colab": {
          "base_uri": "https://localhost:8080/",
          "height": 509
        },
        "outputId": "ecbb8c2e-2b08-4913-8869-27d17267c00f"
      },
      "outputs": [
        {
          "output_type": "stream",
          "name": "stdout",
          "text": [
            "alpha:  0.1\n",
            "alpha:  0.2\n",
            "alpha:  0.3\n",
            "alpha:  0.4\n",
            "alpha:  0.5\n",
            "alpha:  0.6\n",
            "alpha:  0.7\n",
            "alpha:  0.8\n",
            "alpha:  0.9\n",
            "alpha:  1.0\n",
            "The most efficient alpha:  0.7\n",
            "Its average cumulative reward:  106.21\n"
          ]
        },
        {
          "output_type": "display_data",
          "data": {
            "text/plain": [
              "<Figure size 432x288 with 1 Axes>"
            ],
            "image/png": "[encoded data removed]"
          },
          "metadata": {
            "needs_background": "light"
          }
        }
      ],
      "source": [
        "# Increment alpha per 0.1; iterate each alpha 10 times and measure the mean of episodes' results. \n",
        "\n",
        "ITER = 10\n",
        "q_avr_learning_episode_results = np.zeros(10)\n",
        "\n",
        "for alp in range(1, 11): # allocate alp / 10 as the alpha value\n",
        "  q_learning_rewards = 0 \n",
        "  print(\"alpha: \", alp / 10)\n",
        "  for i in range(ITER):\n",
        "    q_learning_agent = Q_Learning(gamma=0.99, alpha=alp/10, env=gym.make('CartPole-v1'), max_number_of_steps=500, num_consecutive_iter=100, \n",
        "                  num_episodes=100, goal_average_reward=195, num_dizitised=6)\n",
        "    q_learning_agent.main(num_episodes=100, out_single=False, video_take=False)      \n",
        "    \n",
        "    q_learning_rewards += q_learning_agent.episode_results.mean()\n",
        "\n",
        "  q_avr_learning_episode_results[alp-1] = q_learning_rewards / ITER\n",
        "\n",
        "# print the most efficient alpha\n",
        "print(\"The most efficient alpha: \", np.argmax(q_avr_learning_episode_results + 1) / 10)\n",
        "print(\"Its average cumulative reward: \", np.max(q_avr_learning_episode_results))\n",
        "\n",
        "# plot\n",
        "plt.plot([i/10 for i in range(1, 11)], q_avr_learning_episode_results)\n",
        "plt.title('Q-Learning')\n",
        "plt.ylabel('Cumulative reward')\n",
        "plt.xlabel('alpha')\n",
        "plt.show()"
      ]
    },
    {
      "cell_type": "markdown",
      "metadata": {
        "id": "Z3WpFq2oyIDF"
      },
      "source": [
        "Thus, suppose alpha is efficient in an interval of [0.6, 0.8]. \\\\\n",
        "*** The result can vary per each running case; I just opt the interval from my multiple running."
      ]
    },
    {
      "cell_type": "markdown",
      "metadata": {
        "id": "sWLdNQ1s2B3F"
      },
      "source": [
        "*** Same as above, just referenced from some cases for the second decimal point,\n",
        "and set alpha=0.78.\n"
      ]
    },
    {
      "cell_type": "markdown",
      "metadata": {
        "id": "c9R3ySMeF-mw"
      },
      "source": [
        "Hyperparameters:\n",
        "- $\\alpha$ ... learning rate (0.78)\n",
        "- $\\gamma$ ... discount factor (0.99)"
      ]
    },
    {
      "cell_type": "markdown",
      "metadata": {
        "id": "6kDs_hEsF-mx"
      },
      "source": [
        "### Task 2: Demonstrate the effectiveness of the RL agent"
      ]
    },
    {
      "cell_type": "markdown",
      "metadata": {
        "id": "c4lAR4fTF-mx"
      },
      "source": [
        "For this task, use the agent developed in Task 1 to play the game for 100 episodes (refer to tutorial for how to play a round), record the cumulative reward for each round, and plot the reward for each round. A sample plotting code is given below. Note that you must include code to play for 100 episodes and use the code to obtain round_results for plotting. DO NOT record the round results in advance and paste the results to the notebook."
      ]
    },
    {
      "cell_type": "code",
      "execution_count": 13,
      "metadata": {
        "id": "3xKawWEBF-mx"
      },
      "outputs": [],
      "source": [
        "# Launch Q-Learning\n",
        "\n",
        "# Create a new instance\n",
        "q_learning_agent = Q_Learning(gamma=0.99, alpha=0.78, env=gym.make('CartPole-v1'), max_number_of_steps=500, num_consecutive_iter=100, \n",
        "                 num_episodes = 100, goal_average_reward=195, num_dizitised=6)                            "
      ]
    },
    {
      "cell_type": "code",
      "execution_count": 14,
      "metadata": {
        "id": "T03MxoFQ3MWX"
      },
      "outputs": [],
      "source": [
        "# Main Routine\n",
        "q_learning_agent.main(num_episodes = 100, out_single=False, video_take=False)  "
      ]
    },
    {
      "cell_type": "code",
      "execution_count": 15,
      "metadata": {
        "id": "ATXka4lsF-mx",
        "colab": {
          "base_uri": "https://localhost:8080/",
          "height": 331
        },
        "outputId": "857f8bf5-d68e-43fe-ddae-7cf84164e441"
      },
      "outputs": [
        {
          "output_type": "display_data",
          "data": {
            "text/plain": [
              "<Figure size 432x288 with 1 Axes>"
            ],
            "image/png": "[encoded data removed]"
          },
          "metadata": {
            "needs_background": "light"
          }
        },
        {
          "output_type": "stream",
          "name": "stdout",
          "text": [
            "Average cumulative reward: 113.76\n",
            "Is my agent good enough? False\n"
          ]
        }
      ],
      "source": [
        "plt.plot(q_learning_agent.episode_results)\n",
        "plt.title('Q-Learning')\n",
        "plt.ylabel('Cumulative reward')\n",
        "plt.xlabel('episode')\n",
        "plt.show()\n",
        "\n",
        "print(\"Average cumulative reward:\", q_learning_agent.episode_results.mean())\n",
        "print(\"Is my agent good enough?\", q_learning_agent.episode_results.mean() > 195)"
      ]
    },
    {
      "cell_type": "markdown",
      "metadata": {
        "id": "s3oBFkwBF-mx"
      },
      "source": [
        "### Task 3: Render one episode played by the agent"
      ]
    },
    {
      "cell_type": "markdown",
      "metadata": {
        "id": "_upyAIL-F-mx"
      },
      "source": [
        "Plug your agent to the code below to obtain rendered result."
      ]
    },
    {
      "cell_type": "code",
      "execution_count": 16,
      "metadata": {
        "id": "41kIuKPEF-mx",
        "colab": {
          "base_uri": "https://localhost:8080/",
          "height": 421
        },
        "outputId": "633c4b1e-1843-461b-9b26-3af0f0786236"
      },
      "outputs": [
        {
          "output_type": "display_data",
          "data": {
            "text/plain": [
              "<IPython.core.display.HTML object>"
            ],
            "text/html": [
              "<video alt=\"test\" autoplay \n",
              "                loop controls style=\"height: 400px;\">\n",
              "                <source src=\"data:video/mp4;base64,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\" type=\"video/mp4\" />\n",
              "             </video>"
            ]
          },
          "metadata": {}
        }
      ],
      "source": [
        "q_learning_agent.main(num_episodes=1, out_single=False, video_take=True)"
      ]
    },
    {
      "cell_type": "markdown",
      "metadata": {
        "id": "aLQcsMp2njag"
      },
      "source": [
        "As the method is not good enough, take a look at another method."
      ]
    },
    {
      "cell_type": "markdown",
      "source": [
        "(Bonus, 1000 episodes)"
      ],
      "metadata": {
        "id": "JSPG0DXZzP1r"
      }
    },
    {
      "cell_type": "code",
      "source": [
        "q_learning_agent = Q_Learning(gamma=0.99, alpha=0.78, env=gym.make('CartPole-v1'), max_number_of_steps=500, num_consecutive_iter=100, \n",
        "                 num_episodes = 1000, goal_average_reward=195, num_dizitised=6)  \n",
        "q_learning_agent.main(num_episodes = 1000, out_single=False, video_take=False)  \n",
        "\n",
        "l = len(q_learning_agent.episode_results)\n",
        "plt.plot(q_learning_agent.episode_results[l-100:l])\n",
        "plt.title('Q-Learning')\n",
        "plt.ylabel('Cumulative reward')\n",
        "plt.xlabel('episode')\n",
        "plt.show()\n",
        "\n",
        "print(\"Average cumulative reward:\", q_learning_agent.episode_results[l-100:l].mean())\n",
        "print(\"Is my agent good enough?\", q_learning_agent.episode_results[l-100:l].mean() > 195)"
      ],
      "metadata": {
        "colab": {
          "base_uri": "https://localhost:8080/",
          "height": 331
        },
        "id": "3NsJeISCzUUJ",
        "outputId": "37472acf-b6f6-4800-c37e-880b360cbab7"
      },
      "execution_count": 17,
      "outputs": [
        {
          "output_type": "display_data",
          "data": {
            "text/plain": [
              "<Figure size 432x288 with 1 Axes>"
            ],
            "image/png": "[encoded data removed]"
          },
          "metadata": {
            "needs_background": "light"
          }
        },
        {
          "output_type": "stream",
          "name": "stdout",
          "text": [
            "Average cumulative reward: 283.25\n",
            "Is my agent good enough? True\n"
          ]
        }
      ]
    },
    {
      "cell_type": "markdown",
      "metadata": {
        "id": "HtLxVMaGF-mx"
      },
      "source": [
        "## Proximal Policy Optimization (PPO)"
      ]
    },
    {
      "cell_type": "markdown",
      "metadata": {
        "id": "z1VAHFl5QIUE"
      },
      "source": [
        "***Referenced from \\\\\n",
        "[2] https://github.com/morikatron/PPO/tree/master/algo \\\\\n",
        "[3] arXiv.1707.06347"
      ]
    },
    {
      "cell_type": "markdown",
      "metadata": {
        "id": "IDlkYS_5F-my"
      },
      "source": [
        "$$\n",
        "L^{CLIP} (\\theta) = \n",
        "\\hat{\\mathbb{E}}_{t}\n",
        "\\left[\n",
        "min\n",
        "\\left(\n",
        "r_{t}(\\theta)\\hat{A}_{t},\\,\n",
        "clip(\n",
        "r_{t}(\\theta), \\,\n",
        "1 - \\epsilon, \\,\n",
        "1 + \\epsilon\n",
        ") \\hat{A}_{t}\n",
        "\\right)\n",
        "\\right]\\\\\n",
        "$$"
      ]
    },
    {
      "cell_type": "markdown",
      "metadata": {
        "id": "WstNXlR-F-my"
      },
      "source": [
        "where,<br>\n",
        "- $\\theta$: policy parameter <br>\n",
        "- $\\hat{\\mathbb{E}}_{t}$: the empirical expectation over timesteps<br>\n",
        "- $r_{t}:$ the ratio of the probability under the new and old policies<br>\n",
        "- $\\hat{A}_{t}:$ the estimated advantage at time t<br>\n",
        "- $\\epsilon :$ hyperparameter to determinte the clipping range of L<br>"
      ]
    },
    {
      "cell_type": "markdown",
      "metadata": {
        "id": "PSlkhguHF-my"
      },
      "source": [
        "Policy:\n",
        "$$\n",
        "r_{t} (\\theta) = \n",
        "\\frac\n",
        "{\n",
        "\\pi_{\\theta} \\left(\n",
        "{a_{t}|s_{t}}\n",
        "\\right)\n",
        "}\n",
        "{\n",
        "\\pi_{{\\theta}_{old}} \\left(\n",
        "{a_{t}|s_{t}}\n",
        "\\right)\n",
        "},\\\\\n",
        "\\hat{A}_{t} \\left( s_{t} , a_{t} \\right) = \n",
        "Q \\left( s_{t} , a_{t} \\right) - \n",
        "V \\left( s_{t} \\right).\n",
        "$$"
      ]
    },
    {
      "cell_type": "markdown",
      "metadata": {
        "id": "hMcZC2U7F-my"
      },
      "source": [
        "Normaly, $0.1 \\leq \\epsilon \\leq 0.3$ is chosen.\n",
        "The smaller an $\\epsilon$ is, the stricter the constrain is enforced."
      ]
    },
    {
      "cell_type": "markdown",
      "metadata": {
        "id": "NnjPdWmbF-my"
      },
      "source": [
        "State Value:\n",
        "\n",
        "Objective function of the state value is:\n",
        "$$\n",
        "L^{VF}_{t}(\\theta) = \\left( V^{\\theta}_{t}(s) - V^{targ}_{t}(s)\\right) ^{2},\\\\\n",
        "V^{targ}_{t}(s) = \\sum_{i=0}^{\\infty} \\gamma^{i} r_{t+i}.\n",
        "$$"
      ]
    },
    {
      "cell_type": "markdown",
      "metadata": {
        "id": "g-SXlQcLF-my"
      },
      "source": [
        "Entropy:\n",
        "$$\n",
        "L^{s}_{t} (\\theta) = - \\Sigma_{a_{t}} \\pi (s_{t}, a_{t})\\, log(\\pi(s_{t}, a_{t})).\n",
        "$$<br>\n",
        "Adding the entropy term $L^{s}_{t}(\\theta)$ to the loss function to control the trade-off of the searching and exploitation. <br>\n",
        "The smaller the entropy term is, the lesser the bias in choosing every action. <br> <br>"
      ]
    },
    {
      "cell_type": "markdown",
      "metadata": {
        "id": "emUikDyXF-my"
      },
      "source": [
        "Generalized Advantage Estimator (GAE):\n",
        "$$\n",
        "A^{GAE}(s_{t}, a_{t}) = \\sum_{i=0}^{\\infty} (\\gamma \\lambda)^{i} \\delta_{t+i},\\\\\n",
        "\\delta_{t} = r_{t} + \\gamma V(s_{t+1}) - V(s_{t}),\\\\\n",
        "0 \\leq \\lambda \\leq 1.\n",
        "$$<br>\n",
        "GAE controls variance of the estimation and bias, which aides the stable convergence of learning.<br>\n",
        "If $\\lambda$ is near to 0, bias becomes learger; if near to 1, variance becomes larger.\n",
        "The $\\lambda$ should be smaller than the $\\gamma$."
      ]
    },
    {
      "cell_type": "markdown",
      "metadata": {
        "id": "uKL2d9Dy701B"
      },
      "source": [
        "### Task 1"
      ]
    },
    {
      "cell_type": "markdown",
      "metadata": {
        "id": "DIFnMbvEF-my"
      },
      "source": [
        "Implementation:"
      ]
    },
    {
      "cell_type": "markdown",
      "metadata": {
        "id": "xrLcz6AoEomM"
      },
      "source": [
        "*** As I do not update the model directly, keras matrix is not made, which does not allow me to save the entire model. \\\\\n",
        "Therefore, I just saved the trained weights and zipped this .ipynb file with the weights checkpoint (h5)."
      ]
    },
    {
      "cell_type": "code",
      "execution_count": 18,
      "metadata": {
        "id": "RoLki6uEF-my"
      },
      "outputs": [],
      "source": [
        "# ***Cited/Referenced from [2]***\n",
        "# https://github.com/morikatron/PPO/blob/master/algo/util.py\n",
        "\n",
        "# Utility\n",
        "def set_global_seeds(i):\n",
        "    rank = MPI.COMM_WORLD.Get_rank()\n",
        "        \n",
        "    myseed = i + 1000 * rank if i is not None else None\n",
        "    tf.random.set_seed(myseed)\n",
        "    np.random.seed(myseed)\n",
        "    random.seed(myseed)"
      ]
    },
    {
      "cell_type": "code",
      "execution_count": 19,
      "metadata": {
        "id": "s9oFgkhCF-my"
      },
      "outputs": [],
      "source": [
        "# ***Referenced from [2]***\n",
        "# https://github.com/morikatron/PPO/blob/master/algo/config.py\n",
        "\n",
        "# Configurations for variables\n",
        "class Config():\n",
        "    # learning config\n",
        "    env_name = \"CartPole-v1\"\n",
        "    seed = 1234 # seed value for tf numpy random\n",
        "    num_update = 100 # the number of iteration in learning\n",
        "    log_step = 100 # the frequency of displaying logs\n",
        "    \n",
        "    #hyperparameters\n",
        "    batch_size = 32\n",
        "    num_epoch = 4 \n",
        "    num_step = 500 # the total number of samples stored in an iteration\n",
        "    num_unit = 64 # the number of units in fc-layer\n",
        "    gamma = 0.99 # discount rate\n",
        "    lambda_ = 0.95 # GAE discount rate\n",
        "    clip = 0.2 # clipped range\n",
        "    vf_coef = 0.5 # coefficient of value loss\n",
        "    ent_coef = 0.01 # coefficient of an entropy term\n",
        "    learning_rate = 0.0001 # [5e-6 - 0.003]\n",
        "    gradient_clip = 0.5 # the range of clipping grad"
      ]
    },
    {
      "cell_type": "code",
      "execution_count": 20,
      "metadata": {
        "id": "n44cN1JFF-my"
      },
      "outputs": [],
      "source": [
        "# ***Cited/Referenced from [2]***\n",
        "# https://github.com/morikatron/PPO/blob/master/algo/ppo.py\n",
        "\n",
        "# PPO state transition and training\n",
        "EPS = 1e-8\n",
        "class PPO(tf.Module):\n",
        "    def __init__(self, num_actions, input_shape, config):\n",
        "        super(PPO, self).__init__(name='ppo_model')\n",
        "        self.num_actions = num_actions\n",
        "        self.input_shape = input_shape\n",
        "        self.batch_size = config.batch_size\n",
        "        self.config = config\n",
        "        \n",
        "        self.policy_value_network = self._build_model()\n",
        "        self.optimizer = Adam(learning_rate=config.learning_rate)\n",
        "        self.gradient_clip = config.gradient_clip\n",
        "        \n",
        "    @tf.function\n",
        "    def step(self, obs):\n",
        "        pi, v = self.policy_value_network(obs)\n",
        "        pi = tf.squeeze(pi)\n",
        "        return pi, v\n",
        "    \n",
        "    @tf.function\n",
        "    def train(self, obs, action, pi_old, advantage, rew_sum):\n",
        "        with tf.GradientTape() as tape:\n",
        "            policy, value = self.policy_value_network(obs)\n",
        "            value = tf.squeeze(value)\n",
        "            one_hot_action = tf.one_hot(action, self.num_actions)\n",
        "            pi = tf.squeeze(tf.reduce_sum(policy * one_hot_action, axis=1, keepdims=True))\n",
        "            ratio = tf.divide(pi, pi_old + EPS)\n",
        "            clipped_advantage = tf.where(advantage>0, (1+self.config.clip) * advantage,\\\n",
        "                                       (1-self.config.clip) * advantage)\n",
        "            l_clip = (-1) * tf.reduce_mean(tf.minimum(ratio * advantage, clipped_advantage))\n",
        "            l_vf = tf.reduce_mean(tf.square(rew_sum - value))\n",
        "            entropy = -tf.reduce_sum(policy * tf.math.log(policy + EPS), axis=1)\n",
        "            l_ent = tf.reduce_mean(entropy)\n",
        "            loss = l_clip + l_vf * self.config.vf_coef - l_ent * self.config.ent_coef\n",
        "        grads = tape.gradient(loss, self.policy_value_network.trainable_variables)\n",
        "        if self.gradient_clip is not None:\n",
        "            clipped_grads = []\n",
        "            for grad in grads:\n",
        "                clipped_grads.append(tf.clip_by_norm(grad, self.gradient_clip))\n",
        "            grads = clipped_grads\n",
        "        grads_and_vars = zip(grads, self.policy_value_network.trainable_variables)\n",
        "        self.optimizer.apply_gradients(grads_and_vars)\n",
        "        \n",
        "        new_policy, _ = self.policy_value_network(tf.convert_to_tensor(obs, dtype=tf.float32))\n",
        "        new_prob = tf.reduce_sum(new_policy * one_hot_action, axis=1)\n",
        "        kl = tf.reduce_mean(pi * tf.math.log(new_prob + EPS) - pi * tf.math.log(pi + EPS))\n",
        "        clipfrac = tf.reduce_mean(tf.cast(tf.greater(tf.abs(ratio - 1.0), self.config.clip), tf.float32))\n",
        "        \n",
        "        return loss, l_clip, l_vf, l_ent, policy, kl, clipfrac\n",
        "    \n",
        "    def _build_model(self):\n",
        "        input_x = tf.keras.Input(shape=self.input_shape)\n",
        "        h1 = tf.keras.layers.Dense(units=self.config.num_unit, activation=\"relu\")(input_x)\n",
        "        h2 = tf.keras.layers.Dense(units=self.config.num_unit, activation=\"relu\")(h1)\n",
        "        \n",
        "        policy = tf.keras.layers.Dense(self.num_actions, activation=\"softmax\")(h2)\n",
        "        value = tf.keras.layers.Dense(1)(h2)\n",
        "        model = tf.keras.Model(inputs=input_x, outputs=[policy, value])\n",
        "        \n",
        "        return model"
      ]
    },
    {
      "cell_type": "code",
      "execution_count": 21,
      "metadata": {
        "id": "A2WmG5O0F-my"
      },
      "outputs": [],
      "source": [
        "# ***Cited/Referenced from [2], [4]***\n",
        "# https://github.com/morikatron/PPO/blob/master/algo/run.py\n",
        "\n",
        "# run\n",
        "class CartPoleWrapper(gym.Wrapper):\n",
        "    def __init__(self, env):\n",
        "        super(CartPoleWrapper, self).__init__(env)\n",
        "        self.steps = 0\n",
        "        self.max_step = 500\n",
        "        \n",
        "    def reset(self):\n",
        "        obs = self.env.reset()\n",
        "        self.steps = 0\n",
        "        return obs\n",
        "    \n",
        "    def step(self, ac):\n",
        "        self.steps += 1\n",
        "        obs, rew, done, info = self.env.step(ac)\n",
        "        if self.steps == 500:\n",
        "            done = 1\n",
        "        if done:\n",
        "            if self.steps > 195:\n",
        "                rew = 1\n",
        "            else:\n",
        "                rew = -1\n",
        "        else:\n",
        "            rew = 0\n",
        "            \n",
        "        return obs, rew, done, info\n",
        "\n",
        "# for video record\n",
        "class CartPoleWrapperVid(RecordVideo):\n",
        "    def __init__(self, env, \n",
        "                 video_folder,\n",
        "                 episode_trigger = None,\n",
        "                 step_trigger = None,\n",
        "                 video_length = 0,\n",
        "                 name_prefix = \"rl-video\",\n",
        "                 new_step_api = False):\n",
        "        super(CartPoleWrapperVid, self).__init__(env, video_folder,\n",
        "                 episode_trigger,\n",
        "                 step_trigger,\n",
        "                 video_length,\n",
        "                 name_prefix,\n",
        "                 new_step_api)\n",
        "    \n",
        "    def step(self, action):\n",
        "        (\n",
        "            observations,\n",
        "            rewards,\n",
        "            terminateds,\n",
        "            truncateds,\n",
        "            infos,\n",
        "        ) = step_api_compatibility(self.env.step(action), True, self.is_vector_env)\n",
        "\n",
        "        if not (self.terminated or self.truncated):\n",
        "            # increment steps and episodes\n",
        "            self.step_id += 1\n",
        "            if self.step_id == 500:\n",
        "                dones = 1\n",
        "            if not self.is_vector_env:\n",
        "                if terminateds or truncateds:\n",
        "                    self.episode_id += 1\n",
        "                    self.terminated = terminateds\n",
        "                    self.truncated = truncateds\n",
        "            elif terminateds[0] or truncateds[0]:\n",
        "                self.episode_id += 1\n",
        "                self.terminated = terminateds[0]\n",
        "                self.truncated = truncateds[0]\n",
        "\n",
        "            if self.recording:\n",
        "                assert self.video_recorder is not None\n",
        "                self.video_recorder.capture_frame()\n",
        "                self.recorded_frames += 1\n",
        "                if self.video_length > 0:\n",
        "                    if self.recorded_frames > self.video_length:\n",
        "                        self.close_video_recorder()\n",
        "                else:\n",
        "                    if not self.is_vector_env:\n",
        "                        if terminateds or truncateds:\n",
        "                            self.close_video_recorder()\n",
        "                    elif terminateds[0] or truncateds[0]:\n",
        "                        self.close_video_recorder()\n",
        "\n",
        "            elif self._video_enabled():\n",
        "                self.start_video_recorder()\n",
        "\n",
        "        return step_api_compatibility(\n",
        "            (observations, rewards, terminateds, truncateds, infos),\n",
        "            self.new_step_api,\n",
        "            self.is_vector_env,\n",
        "        )\n",
        "\n",
        "# Memory of gathered sample for learning\n",
        "class Memory:\n",
        "    def __init__(self, obs_shape, hparams):\n",
        "        self._hparams = hparams\n",
        "        self.size = self._hparams.num_step\n",
        "        self.obses = np.zeros((self.size, ) + obs_shape)\n",
        "        self.actions = np.zeros((self.size, ))\n",
        "        self.rewards = np.zeros((self.size, 1))\n",
        "        self.dones = np.zeros((self.size, 1))\n",
        "        self.values = np.zeros((self.size + 1, 1))\n",
        "        self.policy = np.zeros((self.size, 1))\n",
        "        self.deltas = np.zeros((self.size, 1))\n",
        "        self.discounted_rew_sum = np.zeros((self.size, 1))\n",
        "        self.gae = np.zeros((self.size + 1, 1))\n",
        "        self.sample_i = 0\n",
        "        \n",
        "    def __len__(self):\n",
        "        return self.size\n",
        "    \n",
        "    def add(self, obs, action, reward, done, value, policy):\n",
        "        if self.sample_i < len(self.obses):\n",
        "            self.obses[self.sample_i] = obs\n",
        "            self.actions[self.sample_i] = action\n",
        "            self.rewards[self.sample_i] = reward\n",
        "            self.dones[self.sample_i] = done\n",
        "            self.values[self.sample_i] = value\n",
        "            self.policy[self.sample_i] = policy\n",
        "            \n",
        "        if self.sample_i > 0:\n",
        "            self.deltas[self.sample_i - 1] = self.rewards[self.sample_i - 1] + \\\n",
        "            self._hparams.gamma * value * (1 - self.dones[self.sample_i - 1]) - \\\n",
        "            self.values[self.sample_i - 1]\n",
        "        self.sample_i += 1\n",
        "        \n",
        "    def compute_gae(self):\n",
        "        self.gae[-1] = self.deltas[-1]\n",
        "        for t in reversed(range(self.size-1)):\n",
        "            self.gae[t] = self.deltas[t] + (1 - self.dones[t]) * \\\n",
        "            (self._hparams.gamma * self._hparams.lambda_) * self.gae[t + 1]\n",
        "        self.discounted_rew_sum = self.gae[:-1] + self.values[:-1]\n",
        "        self.gae = (self.gae - np.mean(self.gae[:-1])) / (np.std(self.gae[:-1]) + 1e-8)\n",
        "        return\n",
        "    \n",
        "    def sample(self, idxes):\n",
        "        batch_obs = tf.convert_to_tensor(self.obses[idxes], dtype=tf.float32)\n",
        "        batch_act = tf.convert_to_tensor(self.actions[idxes], dtype=tf.int32)\n",
        "        batch_adv = tf.squeeze(tf.convert_to_tensor(self.gae[idxes], dtype=tf.float32))\n",
        "        batch_pi = tf.squeeze(tf.convert_to_tensor(self.policy[idxes], dtype=tf.float32))\n",
        "        batch_sum = tf.squeeze(tf.convert_to_tensor(self.discounted_rew_sum[idxes], dtype=tf.float32))\n",
        "        return batch_obs, batch_act, batch_adv, batch_sum, batch_pi\n",
        "    \n",
        "    def reset(self):\n",
        "        self.sample_i = 0\n",
        "        self.obses = np.zeros_like(self.obses)\n",
        "        self.actions = np.zeros_like(self.actions)\n",
        "        self.rewards = np.zeros_like(self.rewards)\n",
        "        self.values = np.zeros_like(self.values)\n",
        "        self.policy = np.zeros_like(self.policy)\n",
        "        self.deltas = np.zeros_like(self.deltas)\n",
        "        self.discounted_rew_sum = np.zeros_like(self.discounted_rew_sum)\n",
        "        self.gae = np.zeros_like(self.gae)\n",
        "\n",
        "# PPO Agent\n",
        "class PPO_Agent:\n",
        "    def __init__(self):\n",
        "        self.config = Config()\n",
        "        set_global_seeds(self.config.seed)\n",
        "        self.env = gym.make(self.config.env_name)\n",
        "        self.env = CartPoleWrapper(self.env)\n",
        "        self.episode_rewards = deque([0] * 100, maxlen=100)\n",
        "        with tf.device(\"/gpu:0\"):\n",
        "            self.ppo = PPO(\n",
        "                num_actions=self.env.action_space.n,\n",
        "                input_shape=self.env.observation_space.shape,\n",
        "                config=self.config)\n",
        "            \n",
        "    def main(self, out_single, video_take, save_model, load_model, skip_train):\n",
        "        # for Task 3\n",
        "        if load_model:\n",
        "            self.ppo.policy_value_network.load_weights('./checkpoints/my_checkpoint')\n",
        "\n",
        "        if video_take:\n",
        "            self.env = CartPoleWrapperVid(gym.make(\"CartPole-v1\"), \"./video\")\n",
        "            \n",
        "        num_episodes = 0\n",
        "        memory = Memory(self.env.observation_space.shape, self.config)\n",
        "        reward_sum = 0\n",
        "        obs = self.env.reset()\n",
        "        for t in tqdm(range(self.config.num_update)):\n",
        "            for _ in range(self.config.num_step):\n",
        "                policy, value = self.ppo.step(obs[np.newaxis, :])\n",
        "                policy = policy.numpy()\n",
        "                action = np.random.choice(2, p=policy)\n",
        "\n",
        "                # for returning a single action\n",
        "                if out_single:\n",
        "                    return self.env.step(action), action\n",
        "                \n",
        "                next_obs, reward, done, _ = self.env.step(action)\n",
        "                memory.add(obs, action, reward, done, value, policy[action])\n",
        "                obs = next_obs\n",
        "                reward_sum += reward\n",
        "                if done:\n",
        "                    if video_take:\n",
        "                        obs = self.env.reset()\n",
        "                        self.env.close()\n",
        "                        show_video()\n",
        "                        return\n",
        "                    self.episode_rewards.append(self.env.steps)\n",
        "                    num_episodes += 1\n",
        "                    reward_sum = 0\n",
        "                    obs = self.env.reset()\n",
        "            _, last_value = self.ppo.step(obs[np.newaxis, :])\n",
        "            # train\n",
        "            if not skip_train:\n",
        "              memory.add(None, None, None, None, last_value, None)\n",
        "              memory.compute_gae()\n",
        "              for _ in range(self.config.num_epoch):\n",
        "                  idxes = [idx for idx in range(self.config.num_step)]\n",
        "                  random.shuffle(idxes)\n",
        "                  for start in range(0, len(memory), self.config.batch_size):\n",
        "                      minibatch_idxes = idxes[start:start+self.config.batch_size]\n",
        "                      batch_obs, batch_act, batch_adv, batch_sum, batch_pi_old = memory.sample(minibatch_idxes)\n",
        "                      loss, policy_loss, value_loss, entropy_loss, policy, kl, frac = \\\n",
        "                          self.ppo.train(batch_obs, batch_act, batch_pi_old, batch_adv, batch_sum)\n",
        "\n",
        "            memory.reset()\n",
        "\n",
        "        # Save the trained Model as HDF5    \n",
        "        if save_model:\n",
        "            self.ppo.policy_value_network.save_weights('./checkpoints/my_checkpoint')\n",
        "            \n"
      ]
    },
    {
      "cell_type": "code",
      "execution_count": 22,
      "metadata": {
        "id": "vJdbAdfHF-mz",
        "colab": {
          "base_uri": "https://localhost:8080/"
        },
        "outputId": "67b79650-735c-4960-aa26-bfaea1cf007c"
      },
      "outputs": [
        {
          "output_type": "stream",
          "name": "stderr",
          "text": [
            "  0%|          | 0/100 [00:00<?, ?it/s]"
          ]
        },
        {
          "output_type": "stream",
          "name": "stdout",
          "text": [
            "\n",
            "Observation: [-0.04676324 -0.15008056 -0.01582545  0.30573636]\n",
            "Chosen action: 0\n"
          ]
        },
        {
          "output_type": "stream",
          "name": "stderr",
          "text": [
            "\n"
          ]
        }
      ],
      "source": [
        "ppo_agent = PPO_Agent()\n",
        "observation, action = ppo_agent.main(out_single=True, video_take=False, save_model=False, load_model=False, skip_train=False)\n",
        "print(\"\\nObservation:\", observation[0])\n",
        "print(\"Chosen action:\", action)"
      ]
    },
    {
      "cell_type": "markdown",
      "metadata": {
        "id": "QTVCY6GfCWsv"
      },
      "source": [
        "Hyperparameters:\n",
        "- batch_size.. (32)\n",
        "- num_epoch.. (4)\n",
        "- num_step.. the total number of samples stored in an iteration (500) \n",
        "- num_unit.. the number of units in fc-layer (64) \n",
        "- gamma.. discount rate (0.99)\n",
        "- lambda_.. GAE discount rate (0.95)\n",
        "- clip.. clipped range (0.2)\n",
        "- vf_coef.. coefficient of value loss (0.5)\n",
        "- ent_coef.. coefficient of an entropy term (0.01)\n",
        "- learning_rate ..(0.0001)\n",
        "- gradient_clip.. the range of clipping grad (0.5)"
      ]
    },
    {
      "cell_type": "markdown",
      "metadata": {
        "id": "YqM-_COA75n2"
      },
      "source": [
        "### Task 2"
      ]
    },
    {
      "cell_type": "code",
      "execution_count": 23,
      "metadata": {
        "id": "Y1Zyeu5gF-mz",
        "scrolled": false,
        "colab": {
          "base_uri": "https://localhost:8080/"
        },
        "outputId": "5240383e-040c-46ca-8418-b5a73ded34ce"
      },
      "outputs": [
        {
          "output_type": "stream",
          "name": "stderr",
          "text": [
            "100%|██████████| 100/100 [02:48<00:00,  1.68s/it]\n"
          ]
        }
      ],
      "source": [
        "# Launch Q-Learning\n",
        "\n",
        "# Create a new instance\n",
        "ppo_agent = PPO_Agent()\n",
        "\n",
        "# Main Routine\n",
        "ppo_agent.main(out_single=False, video_take=False, save_model=True, load_model=False, skip_train=False)"
      ]
    },
    {
      "cell_type": "code",
      "execution_count": 24,
      "metadata": {
        "id": "zrmSu69sTyX_",
        "colab": {
          "base_uri": "https://localhost:8080/",
          "height": 331
        },
        "outputId": "95b8aa8f-8940-466e-959c-01f9aab517c4"
      },
      "outputs": [
        {
          "output_type": "display_data",
          "data": {
            "text/plain": [
              "<Figure size 432x288 with 1 Axes>"
            ],
            "image/png": "[encoded data removed]"
          },
          "metadata": {
            "needs_background": "light"
          }
        },
        {
          "output_type": "stream",
          "name": "stdout",
          "text": [
            "Average cumulative reward: 231.93\n",
            "Is my agent good enough? True\n"
          ]
        }
      ],
      "source": [
        "# plot episode_rewards\n",
        "plt.plot(ppo_agent.episode_rewards)\n",
        "plt.title('PPO')\n",
        "plt.ylabel('Cumulative reward')\n",
        "plt.xlabel('episode')\n",
        "plt.show()\n",
        "\n",
        "print(\"Average cumulative reward:\", np.mean(ppo_agent.episode_rewards))\n",
        "print(\"Is my agent good enough?\", np.mean(ppo_agent.episode_rewards) > 195)"
      ]
    },
    {
      "cell_type": "markdown",
      "metadata": {
        "id": "Y1Z58wYSCGDg"
      },
      "source": [
        "### Task 3"
      ]
    },
    {
      "cell_type": "code",
      "execution_count": 25,
      "metadata": {
        "id": "QT5XsU79CGzj",
        "colab": {
          "base_uri": "https://localhost:8080/",
          "height": 457
        },
        "outputId": "21f33156-527f-4edf-b2f4-b3263ca15fe9"
      },
      "outputs": [
        {
          "output_type": "stream",
          "name": "stderr",
          "text": [
            "\r  0%|          | 0/100 [00:00<?, ?it/s]"
          ]
        },
        {
          "output_type": "display_data",
          "data": {
            "text/plain": [
              "<IPython.core.display.HTML object>"
            ],
            "text/html": [
              "<video alt=\"test\" autoplay \n",
              "                loop controls style=\"height: 400px;\">\n",
              "                <source src=\"data:video/mp4;base64,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\" type=\"video/mp4\" />\n",
              "             </video>"
            ]
          },
          "metadata": {}
        },
        {
          "output_type": "stream",
          "name": "stderr",
          "text": [
            "\r  0%|          | 0/100 [00:05<?, ?it/s]\n"
          ]
        }
      ],
      "source": [
        "ppo_agent.main(out_single=False, video_take=True, save_model=False, load_model=False, skip_train=False)"
      ]
    },
    {
      "cell_type": "markdown",
      "metadata": {
        "id": "8ZIlgG4ZLzJ2"
      },
      "source": [
        "Bonus: load model"
      ]
    },
    {
      "cell_type": "code",
      "execution_count": 26,
      "metadata": {
        "id": "_ZFRdqXi0JSf",
        "colab": {
          "base_uri": "https://localhost:8080/",
          "height": 457
        },
        "outputId": "112a35ca-d032-41d9-d6e1-b3d185992856"
      },
      "outputs": [
        {
          "output_type": "stream",
          "name": "stderr",
          "text": [
            "\r  0%|          | 0/100 [00:00<?, ?it/s]"
          ]
        },
        {
          "output_type": "display_data",
          "data": {
            "text/plain": [
              "<IPython.core.display.HTML object>"
            ],
            "text/html": [
              "<video alt=\"test\" autoplay \n",
              "                loop controls style=\"height: 400px;\">\n",
              "                <source src=\"data:video/mp4;base64,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\" type=\"video/mp4\" />\n",
              "             </video>"
            ]
          },
          "metadata": {}
        },
        {
          "output_type": "stream",
          "name": "stderr",
          "text": [
            "\r  0%|          | 0/100 [00:01<?, ?it/s]\n"
          ]
        }
      ],
      "source": [
        "ppo_agent2 = PPO_Agent()\n",
        "ppo_agent2.main(out_single=False, video_take=True, save_model=False, load_model=True, skip_train=True)"
      ]
    },
    {
      "cell_type": "markdown",
      "metadata": {
        "id": "ZyZFseeZQju_"
      },
      "source": [
        "## Reference List"
      ]
    },
    {
      "cell_type": "markdown",
      "metadata": {
        "id": "Tlvq-JgoQtHV"
      },
      "source": [
        "[1] S. Ogawa. \"強化学習初心者向け】シンプルな実装例で学ぶQ学習、DQN、DDQN【CartPoleで棒立て：1ファイルで完結、Kearas使用】\". [Source code]. Qiita. https://qiita.com/sugulu_Ogawa_ISID/items/bc7c70e6658f204f85f9. (accessed Mar. 7, 2023). \\\\\n",
        "[2] MORIKATRON Inc. [Source code]. https://github.com/morikatron/PPO/tree/master/algo \\\\\n",
        "[3] J. Schulman, F. Wolski, P. Dhariwal, A. Radford, and O. Klimov, \"Proximal Policy Optimization Algorithms\", 2017. [Online]. Available: *arXiv:1707.06347*. \\\\\n",
        "[4] Tensorflow. \"Save and load models\". [Source code]. https://www.tensorflow.org/tutorials/keras/save_and_load. (accessed Mar. 7, 2023)."
      ]
    }
  ],
  "metadata": {
    "accelerator": "GPU",
    "colab": {
      "provenance": []
    },
    "gpuClass": "standard",
    "kernelspec": {
      "display_name": "Python 3 (ipykernel)",
      "language": "python",
      "name": "python3"
    },
    "language_info": {
      "codemirror_mode": {
        "name": "ipython",
        "version": 3
      },
      "file_extension": ".py",
      "mimetype": "text/x-python",
      "name": "python",
      "nbconvert_exporter": "python",
      "pygments_lexer": "ipython3",
      "version": "3.10.6"
    },
    "vscode": {
      "interpreter": {
        "hash": "b0fa6594d8f4cbf19f97940f81e996739fb7646882a419484c72d19e05852a7e"
      }
    }
  },
  "nbformat": 4,
  "nbformat_minor": 0
}